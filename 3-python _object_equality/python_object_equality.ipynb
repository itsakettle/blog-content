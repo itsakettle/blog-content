{
 "cells": [
  {
   "cell_type": "code",
   "execution_count": null,
   "metadata": {},
   "outputs": [],
   "source": [
    "class Circle:\n",
    "    def __init__(self, color):\n",
    "        self.color = color\n",
    "\n",
    "blue_circle_one = Circle(\"blue\")\n",
    "blue_circle_two = Circle(\"blue\")\n",
    "\n",
    "print(blue_circle_one is blue_circle_two) # False\n",
    "print(blue_circle_one == blue_circle_two) # False"
   ]
  },
  {
   "cell_type": "code",
   "execution_count": null,
   "metadata": {},
   "outputs": [],
   "source": [
    "class Circle:\n",
    "    def __init__(self, color):\n",
    "        self.color = color\n",
    "\n",
    "    def __eq__(self, otherCircle):\n",
    "        if isinstance(otherCircle, Circle):\n",
    "            return otherCircle.color == self.color\n",
    "        else:\n",
    "            return NotImplemented\n",
    "        \n",
    "blue_circle_one = Circle(\"blue\")\n",
    "blue_circle_two = Circle(\"blue\")\n",
    "\n",
    "print(blue_circle_one is blue_circle_two) # False\n",
    "print(blue_circle_one == blue_circle_two) # True"
   ]
  },
  {
   "cell_type": "code",
   "execution_count": null,
   "metadata": {},
   "outputs": [],
   "source": [
    "class Circle:\n",
    "    def __init__(self, color):\n",
    "        self.color = color\n",
    "\n",
    "    def __eq__(self, otherCircle):\n",
    "        return \"apple\"\n",
    "        \n",
    "class Square:\n",
    "    def __init__(self, color):\n",
    "        self.color = color\n",
    "\n",
    "    def __eq__(self, otherSquare):\n",
    "        if isinstance(otherSquare, Square):\n",
    "            return otherSquare.color == self.color\n",
    "        else:\n",
    "            return NotImplemented\n",
    "\n",
    "circle = Circle(\"blue\")\n",
    "square = Square(\"blue\")\n",
    "\n",
    "print(circle == square) # apple"
   ]
  },
  {
   "cell_type": "code",
   "execution_count": null,
   "metadata": {},
   "outputs": [],
   "source": [
    "a = 1\n",
    "b = 2\n",
    "print(a == b) # False\n",
    "\n",
    "a = [1, 2]\n",
    "b = [1, 2, 3]\n",
    "print(a == b) # False\n",
    "\n",
    "a = \"a\"\n",
    "b = \"a\"\n",
    "print(a == b) # True"
   ]
  },
  {
   "cell_type": "code",
   "execution_count": null,
   "metadata": {},
   "outputs": [],
   "source": [
    "a = 1\n",
    "b = 2\n",
    "print(a is b) # False\n",
    "\n",
    "a = [1, 2]\n",
    "b = [1, 2, 3]\n",
    "print(a is b) # False\n",
    "\n",
    "a = \"a\"\n",
    "b = \"a\"\n",
    "print(a is b) # True !!!"
   ]
  },
  {
   "cell_type": "code",
   "execution_count": null,
   "metadata": {},
   "outputs": [],
   "source": [
    "a = \"a\"\n",
    "b = \"a\"\n",
    "a is b # True !!!\n",
    "\n",
    "print(id(a)) # 4450444768\n",
    "print(id(b)) # 4450444768"
   ]
  },
  {
   "cell_type": "code",
   "execution_count": null,
   "metadata": {},
   "outputs": [],
   "source": [
    "x = 1\n",
    "print(x == None) # False\n",
    "\n",
    "x = None\n",
    "print(x == None) # True"
   ]
  },
  {
   "cell_type": "code",
   "execution_count": null,
   "metadata": {},
   "outputs": [],
   "source": [
    "class Circle:\n",
    "    def __init__(self, color):\n",
    "        self.color = color\n",
    "\n",
    "    def __eq__(self, otherCircle):\n",
    "        return True\n",
    "\n",
    "circle = Circle(\"blue\")\n",
    "print(circle == None) # True !!!"
   ]
  },
  {
   "cell_type": "code",
   "execution_count": null,
   "metadata": {},
   "outputs": [],
   "source": []
  }
 ],
 "metadata": {
  "kernelspec": {
   "display_name": "Python 3",
   "language": "python",
   "name": "python3"
  },
  "language_info": {
   "codemirror_mode": {
    "name": "ipython",
    "version": 3
   },
   "file_extension": ".py",
   "mimetype": "text/x-python",
   "name": "python",
   "nbconvert_exporter": "python",
   "pygments_lexer": "ipython3",
   "version": "3.11.4"
  },
  "orig_nbformat": 4,
  "vscode": {
   "interpreter": {
    "hash": "0f0d1955e29ccac8cba4b88dc6a9ffea171f5b81fe0b7375d139235c30dd1c25"
   }
  }
 },
 "nbformat": 4,
 "nbformat_minor": 2
}
