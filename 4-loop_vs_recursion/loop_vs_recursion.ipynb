{
 "cells": [
  {
   "cell_type": "code",
   "execution_count": null,
   "metadata": {},
   "outputs": [],
   "source": [
    "  import sys\n",
    "  import resource"
   ]
  },
  {
   "cell_type": "code",
   "execution_count": null,
   "metadata": {},
   "outputs": [],
   "source": [
    "def count_letter_using_loop(words: list, letter: str) -> int:\n",
    "    total = 0\n",
    "    for word in words:\n",
    "        total += word.count(letter)\n",
    "      \n",
    "    return total"
   ]
  },
  {
   "cell_type": "code",
   "execution_count": null,
   "metadata": {},
   "outputs": [],
   "source": [
    "count_letter_using_loop(words=[\"hello\", \"goodbye\", \"quack\", \"discontent\", \"dreams\", \"concert\"], \"l\")"
   ]
  },
  {
   "cell_type": "code",
   "execution_count": null,
   "metadata": {},
   "outputs": [],
   "source": [
    "def count_letter_using_recursion(words: list, letter: str) -> int:\n",
    "    if not words:\n",
    "        return 0\n",
    "    \n",
    "    current_word = words.pop()\n",
    "    letter_count = current_word.count(letter)\n",
    "    remaining_letter_count = count_letter_using_recursion(words, letter)\n",
    "    return letter_count + remaining_letter_count"
   ]
  },
  {
   "cell_type": "code",
   "execution_count": null,
   "metadata": {},
   "outputs": [],
   "source": [
    "count_letter_using_recursion([\"hello\", \"goodlbye\", \"quack\", \"disclontent\", \"dreams\", \"concert\"], \"l\")"
   ]
  },
  {
   "cell_type": "code",
   "execution_count": null,
   "metadata": {},
   "outputs": [],
   "source": [
    "def endless_recursion(x):\n",
    "    mem = round(resource.getrusage(resource.RUSAGE_SELF).ru_maxrss/1024/1024, 3)\n",
    "    big_list = [9.0] * 100000000\n",
    "    stack = resource.getrlimit(resource.RLIMIT_STACK)\n",
    "    sys.stdout.write(f\"x={x} mem={mem} stack={stack}\\r\")\n",
    "    sys.stdout.flush()\n",
    "    endless_recursion(x+1)"
   ]
  },
  {
   "cell_type": "code",
   "execution_count": null,
   "metadata": {},
   "outputs": [],
   "source": [
    "endless_recursion(0)"
   ]
  },
  {
   "cell_type": "code",
   "execution_count": null,
   "metadata": {},
   "outputs": [],
   "source": [
    "import sys\n",
    "print(sys.getrecursionlimit())"
   ]
  },
  {
   "cell_type": "code",
   "execution_count": null,
   "metadata": {},
   "outputs": [],
   "source": [
    "sys.setrecursionlimit(1000000)"
   ]
  },
  {
   "cell_type": "code",
   "execution_count": null,
   "metadata": {},
   "outputs": [],
   "source": [
    "import profile\n",
    "profile.run('endless_recursion(0)')"
   ]
  },
  {
   "cell_type": "code",
   "execution_count": null,
   "metadata": {},
   "outputs": [],
   "source": []
  }
 ],
 "metadata": {
  "kernelspec": {
   "display_name": "Python 3",
   "language": "python",
   "name": "python3"
  },
  "language_info": {
   "codemirror_mode": {
    "name": "ipython",
    "version": 3
   },
   "file_extension": ".py",
   "mimetype": "text/x-python",
   "name": "python",
   "nbconvert_exporter": "python",
   "pygments_lexer": "ipython3",
   "version": "3.11.4"
  }
 },
 "nbformat": 4,
 "nbformat_minor": 2
}
